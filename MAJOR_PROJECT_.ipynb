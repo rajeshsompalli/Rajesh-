{
  "cells": [
    {
      "cell_type": "markdown",
      "metadata": {
        "id": "view-in-github",
        "colab_type": "text"
      },
      "source": [
        "<a href=\"https://colab.research.google.com/github/rajeshsompalli/Rajesh-/blob/main/MAJOR_PROJECT_.ipynb\" target=\"_parent\"><img src=\"https://colab.research.google.com/assets/colab-badge.svg\" alt=\"Open In Colab\"/></a>"
      ]
    },
    {
      "cell_type": "markdown",
      "metadata": {
        "id": "FsHSC4LQQdWQ"
      },
      "source": [
        "# **MULTIPLE LINEAR REGRESSION USING IPL Dataset**"
      ]
    },
    {
      "cell_type": "markdown",
      "metadata": {
        "id": "kRVbDNYfQgou"
      },
      "source": [
        "## **Importing the IPL data set**"
      ]
    },
    {
      "cell_type": "code",
      "execution_count": null,
      "metadata": {
        "colab": {
          "base_uri": "https://localhost:8080/"
        },
        "id": "ZmfwB8uyQYq4",
        "outputId": "5f13dd40-00c7-4d9e-edc5-41cacc285d92"
      },
      "outputs": [
        {
          "name": "stdout",
          "output_type": "stream",
          "text": [
            "<class 'pandas.core.frame.DataFrame'>\n",
            "RangeIndex: 130 entries, 0 to 129\n",
            "Data columns (total 26 columns):\n",
            " #   Column         Non-Null Count  Dtype  \n",
            "---  ------         --------------  -----  \n",
            " 0   Sl.NO.         130 non-null    int64  \n",
            " 1   PLAYER NAME    130 non-null    object \n",
            " 2   AGE            130 non-null    int64  \n",
            " 3   COUNTRY        130 non-null    object \n",
            " 4   TEAM           130 non-null    object \n",
            " 5   PLAYING ROLE   130 non-null    object \n",
            " 6   T-RUNS         130 non-null    int64  \n",
            " 7   T-WKTS         130 non-null    int64  \n",
            " 8   ODI-RUNS-S     130 non-null    int64  \n",
            " 9   ODI-SR-B       130 non-null    float64\n",
            " 10  ODI-WKTS       130 non-null    int64  \n",
            " 11  ODI-SR-BL      130 non-null    float64\n",
            " 12  CAPTAINCY EXP  130 non-null    int64  \n",
            " 13  RUNS-S         130 non-null    int64  \n",
            " 14  HS             130 non-null    int64  \n",
            " 15  AVE            130 non-null    float64\n",
            " 16  SR-B           130 non-null    float64\n",
            " 17  SIXERS         130 non-null    int64  \n",
            " 18  RUNS-C         130 non-null    int64  \n",
            " 19  WKTS           130 non-null    int64  \n",
            " 20  AVE-BL         130 non-null    float64\n",
            " 21  ECON           130 non-null    float64\n",
            " 22  SR-BL          130 non-null    float64\n",
            " 23  AUCTION YEAR   130 non-null    int64  \n",
            " 24  BASE PRICE     130 non-null    int64  \n",
            " 25  SOLD PRICE     130 non-null    int64  \n",
            "dtypes: float64(7), int64(15), object(4)\n",
            "memory usage: 26.5+ KB\n"
          ]
        },
        {
          "data": {
            "text/plain": [
              "(130, 26)"
            ]
          },
          "execution_count": 7,
          "metadata": {},
          "output_type": "execute_result"
        }
      ],
      "source": [
        "import pandas as pd\n",
        "\n",
        "url=\"C:\\datasets\\IPL IMB381IPL2013.csv\"  #Give path of where you have saved your csv file\n",
        "ipl_df = pd.read_csv(url)\n",
        "\n",
        "ipl_df.info()\n",
        "ipl_df.shape\n"
      ]
    },
    {
      "cell_type": "code",
      "execution_count": null,
      "metadata": {
        "id": "Q9DBf5yLKuT2",
        "outputId": "31e20ff3-85fb-4c92-a9de-e4eeb7acc8a3"
      },
      "outputs": [
        {
          "data": {
            "text/html": [
              "<div>\n",
              "<style scoped>\n",
              "    .dataframe tbody tr th:only-of-type {\n",
              "        vertical-align: middle;\n",
              "    }\n",
              "\n",
              "    .dataframe tbody tr th {\n",
              "        vertical-align: top;\n",
              "    }\n",
              "\n",
              "    .dataframe thead th {\n",
              "        text-align: right;\n",
              "    }\n",
              "</style>\n",
              "<table border=\"1\" class=\"dataframe\">\n",
              "  <thead>\n",
              "    <tr style=\"text-align: right;\">\n",
              "      <th></th>\n",
              "      <th>Sl.NO.</th>\n",
              "      <th>PLAYER NAME</th>\n",
              "      <th>AGE</th>\n",
              "      <th>COUNTRY</th>\n",
              "      <th>TEAM</th>\n",
              "      <th>PLAYING ROLE</th>\n",
              "      <th>T-RUNS</th>\n",
              "      <th>T-WKTS</th>\n",
              "      <th>ODI-RUNS-S</th>\n",
              "      <th>ODI-SR-B</th>\n",
              "      <th>...</th>\n",
              "      <th>SR-B</th>\n",
              "      <th>SIXERS</th>\n",
              "      <th>RUNS-C</th>\n",
              "      <th>WKTS</th>\n",
              "      <th>AVE-BL</th>\n",
              "      <th>ECON</th>\n",
              "      <th>SR-BL</th>\n",
              "      <th>AUCTION YEAR</th>\n",
              "      <th>BASE PRICE</th>\n",
              "      <th>SOLD PRICE</th>\n",
              "    </tr>\n",
              "  </thead>\n",
              "  <tbody>\n",
              "    <tr>\n",
              "      <th>0</th>\n",
              "      <td>1</td>\n",
              "      <td>Abdulla, YA</td>\n",
              "      <td>2</td>\n",
              "      <td>SA</td>\n",
              "      <td>KXIP</td>\n",
              "      <td>Allrounder</td>\n",
              "      <td>0</td>\n",
              "      <td>0</td>\n",
              "      <td>0</td>\n",
              "      <td>0.00</td>\n",
              "      <td>...</td>\n",
              "      <td>0.00</td>\n",
              "      <td>0</td>\n",
              "      <td>307</td>\n",
              "      <td>15</td>\n",
              "      <td>20.47</td>\n",
              "      <td>8.90</td>\n",
              "      <td>13.93</td>\n",
              "      <td>2009</td>\n",
              "      <td>50000</td>\n",
              "      <td>50000</td>\n",
              "    </tr>\n",
              "    <tr>\n",
              "      <th>1</th>\n",
              "      <td>2</td>\n",
              "      <td>Abdur Razzak</td>\n",
              "      <td>2</td>\n",
              "      <td>BAN</td>\n",
              "      <td>RCB</td>\n",
              "      <td>Bowler</td>\n",
              "      <td>214</td>\n",
              "      <td>18</td>\n",
              "      <td>657</td>\n",
              "      <td>71.41</td>\n",
              "      <td>...</td>\n",
              "      <td>0.00</td>\n",
              "      <td>0</td>\n",
              "      <td>29</td>\n",
              "      <td>0</td>\n",
              "      <td>0.00</td>\n",
              "      <td>14.50</td>\n",
              "      <td>0.00</td>\n",
              "      <td>2008</td>\n",
              "      <td>50000</td>\n",
              "      <td>50000</td>\n",
              "    </tr>\n",
              "    <tr>\n",
              "      <th>2</th>\n",
              "      <td>3</td>\n",
              "      <td>Agarkar, AB</td>\n",
              "      <td>2</td>\n",
              "      <td>IND</td>\n",
              "      <td>KKR</td>\n",
              "      <td>Bowler</td>\n",
              "      <td>571</td>\n",
              "      <td>58</td>\n",
              "      <td>1269</td>\n",
              "      <td>80.62</td>\n",
              "      <td>...</td>\n",
              "      <td>121.01</td>\n",
              "      <td>5</td>\n",
              "      <td>1059</td>\n",
              "      <td>29</td>\n",
              "      <td>36.52</td>\n",
              "      <td>8.81</td>\n",
              "      <td>24.90</td>\n",
              "      <td>2008</td>\n",
              "      <td>200000</td>\n",
              "      <td>350000</td>\n",
              "    </tr>\n",
              "    <tr>\n",
              "      <th>3</th>\n",
              "      <td>4</td>\n",
              "      <td>Ashwin, R</td>\n",
              "      <td>1</td>\n",
              "      <td>IND</td>\n",
              "      <td>CSK</td>\n",
              "      <td>Bowler</td>\n",
              "      <td>284</td>\n",
              "      <td>31</td>\n",
              "      <td>241</td>\n",
              "      <td>84.56</td>\n",
              "      <td>...</td>\n",
              "      <td>76.32</td>\n",
              "      <td>0</td>\n",
              "      <td>1125</td>\n",
              "      <td>49</td>\n",
              "      <td>22.96</td>\n",
              "      <td>6.23</td>\n",
              "      <td>22.14</td>\n",
              "      <td>2011</td>\n",
              "      <td>100000</td>\n",
              "      <td>850000</td>\n",
              "    </tr>\n",
              "    <tr>\n",
              "      <th>4</th>\n",
              "      <td>5</td>\n",
              "      <td>Badrinath, S</td>\n",
              "      <td>2</td>\n",
              "      <td>IND</td>\n",
              "      <td>CSK</td>\n",
              "      <td>Batsman</td>\n",
              "      <td>63</td>\n",
              "      <td>0</td>\n",
              "      <td>79</td>\n",
              "      <td>45.93</td>\n",
              "      <td>...</td>\n",
              "      <td>120.71</td>\n",
              "      <td>28</td>\n",
              "      <td>0</td>\n",
              "      <td>0</td>\n",
              "      <td>0.00</td>\n",
              "      <td>0.00</td>\n",
              "      <td>0.00</td>\n",
              "      <td>2011</td>\n",
              "      <td>100000</td>\n",
              "      <td>800000</td>\n",
              "    </tr>\n",
              "  </tbody>\n",
              "</table>\n",
              "<p>5 rows × 26 columns</p>\n",
              "</div>"
            ],
            "text/plain": [
              "   Sl.NO.   PLAYER NAME  AGE COUNTRY  TEAM PLAYING ROLE  T-RUNS  T-WKTS  \\\n",
              "0       1   Abdulla, YA    2      SA  KXIP   Allrounder       0       0   \n",
              "1       2  Abdur Razzak    2     BAN   RCB       Bowler     214      18   \n",
              "2       3   Agarkar, AB    2     IND   KKR       Bowler     571      58   \n",
              "3       4     Ashwin, R    1     IND   CSK       Bowler     284      31   \n",
              "4       5  Badrinath, S    2     IND   CSK      Batsman      63       0   \n",
              "\n",
              "   ODI-RUNS-S  ODI-SR-B  ...    SR-B  SIXERS  RUNS-C  WKTS  AVE-BL   ECON  \\\n",
              "0           0      0.00  ...    0.00       0     307    15   20.47   8.90   \n",
              "1         657     71.41  ...    0.00       0      29     0    0.00  14.50   \n",
              "2        1269     80.62  ...  121.01       5    1059    29   36.52   8.81   \n",
              "3         241     84.56  ...   76.32       0    1125    49   22.96   6.23   \n",
              "4          79     45.93  ...  120.71      28       0     0    0.00   0.00   \n",
              "\n",
              "   SR-BL  AUCTION YEAR  BASE PRICE  SOLD PRICE  \n",
              "0  13.93          2009       50000       50000  \n",
              "1   0.00          2008       50000       50000  \n",
              "2  24.90          2008      200000      350000  \n",
              "3  22.14          2011      100000      850000  \n",
              "4   0.00          2011      100000      800000  \n",
              "\n",
              "[5 rows x 26 columns]"
            ]
          },
          "execution_count": 8,
          "metadata": {},
          "output_type": "execute_result"
        }
      ],
      "source": [
        "ipl_df.head()"
      ]
    },
    {
      "cell_type": "markdown",
      "metadata": {
        "id": "E_hymMJgRAor"
      },
      "source": [
        "## **Displaying the initial 10 columns for the first 5 records**"
      ]
    },
    {
      "cell_type": "code",
      "execution_count": null,
      "metadata": {
        "colab": {
          "base_uri": "https://localhost:8080/",
          "height": 203
        },
        "id": "e6rXyEekRCbg",
        "outputId": "b7bcfa0b-d3ed-4d3a-d5d2-c6051515b597"
      },
      "outputs": [
        {
          "data": {
            "text/html": [
              "<div>\n",
              "<style scoped>\n",
              "    .dataframe tbody tr th:only-of-type {\n",
              "        vertical-align: middle;\n",
              "    }\n",
              "\n",
              "    .dataframe tbody tr th {\n",
              "        vertical-align: top;\n",
              "    }\n",
              "\n",
              "    .dataframe thead th {\n",
              "        text-align: right;\n",
              "    }\n",
              "</style>\n",
              "<table border=\"1\" class=\"dataframe\">\n",
              "  <thead>\n",
              "    <tr style=\"text-align: right;\">\n",
              "      <th></th>\n",
              "      <th>Sl.NO.</th>\n",
              "      <th>PLAYER NAME</th>\n",
              "      <th>AGE</th>\n",
              "      <th>COUNTRY</th>\n",
              "      <th>TEAM</th>\n",
              "      <th>PLAYING ROLE</th>\n",
              "      <th>T-RUNS</th>\n",
              "      <th>T-WKTS</th>\n",
              "      <th>ODI-RUNS-S</th>\n",
              "      <th>ODI-SR-B</th>\n",
              "    </tr>\n",
              "  </thead>\n",
              "  <tbody>\n",
              "    <tr>\n",
              "      <th>0</th>\n",
              "      <td>1</td>\n",
              "      <td>Abdulla, YA</td>\n",
              "      <td>2</td>\n",
              "      <td>SA</td>\n",
              "      <td>KXIP</td>\n",
              "      <td>Allrounder</td>\n",
              "      <td>0</td>\n",
              "      <td>0</td>\n",
              "      <td>0</td>\n",
              "      <td>0.00</td>\n",
              "    </tr>\n",
              "    <tr>\n",
              "      <th>1</th>\n",
              "      <td>2</td>\n",
              "      <td>Abdur Razzak</td>\n",
              "      <td>2</td>\n",
              "      <td>BAN</td>\n",
              "      <td>RCB</td>\n",
              "      <td>Bowler</td>\n",
              "      <td>214</td>\n",
              "      <td>18</td>\n",
              "      <td>657</td>\n",
              "      <td>71.41</td>\n",
              "    </tr>\n",
              "    <tr>\n",
              "      <th>2</th>\n",
              "      <td>3</td>\n",
              "      <td>Agarkar, AB</td>\n",
              "      <td>2</td>\n",
              "      <td>IND</td>\n",
              "      <td>KKR</td>\n",
              "      <td>Bowler</td>\n",
              "      <td>571</td>\n",
              "      <td>58</td>\n",
              "      <td>1269</td>\n",
              "      <td>80.62</td>\n",
              "    </tr>\n",
              "    <tr>\n",
              "      <th>3</th>\n",
              "      <td>4</td>\n",
              "      <td>Ashwin, R</td>\n",
              "      <td>1</td>\n",
              "      <td>IND</td>\n",
              "      <td>CSK</td>\n",
              "      <td>Bowler</td>\n",
              "      <td>284</td>\n",
              "      <td>31</td>\n",
              "      <td>241</td>\n",
              "      <td>84.56</td>\n",
              "    </tr>\n",
              "    <tr>\n",
              "      <th>4</th>\n",
              "      <td>5</td>\n",
              "      <td>Badrinath, S</td>\n",
              "      <td>2</td>\n",
              "      <td>IND</td>\n",
              "      <td>CSK</td>\n",
              "      <td>Batsman</td>\n",
              "      <td>63</td>\n",
              "      <td>0</td>\n",
              "      <td>79</td>\n",
              "      <td>45.93</td>\n",
              "    </tr>\n",
              "  </tbody>\n",
              "</table>\n",
              "</div>"
            ],
            "text/plain": [
              "   Sl.NO.   PLAYER NAME  AGE COUNTRY  ... T-RUNS T-WKTS  ODI-RUNS-S  ODI-SR-B\n",
              "0       1   Abdulla, YA    2      SA  ...      0      0           0      0.00\n",
              "1       2  Abdur Razzak    2     BAN  ...    214     18         657     71.41\n",
              "2       3   Agarkar, AB    2     IND  ...    571     58        1269     80.62\n",
              "3       4     Ashwin, R    1     IND  ...    284     31         241     84.56\n",
              "4       5  Badrinath, S    2     IND  ...     63      0          79     45.93\n",
              "\n",
              "[5 rows x 10 columns]"
            ]
          },
          "execution_count": 2,
          "metadata": {},
          "output_type": "execute_result"
        }
      ],
      "source": [
        "ipl_df.iloc[0:5, 0:10]"
      ]
    },
    {
      "cell_type": "markdown",
      "metadata": {
        "id": "PicydchkRGMs"
      },
      "source": [
        "## **Predicting the players sold price**"
      ]
    },
    {
      "cell_type": "code",
      "execution_count": null,
      "metadata": {
        "id": "TTSPrx5vRLkv"
      },
      "outputs": [],
      "source": [
        "X_features = ['AGE', 'COUNTRY', 'PLAYING ROLE', 'T-RUNS', 'T-WKTS', 'ODI-RUNS-S', 'ODI-SR-B', 'ODI-WKTS', 'ODI-SR-BL','CAPTAINCY EXP', 'RUNS-S', 'HS', 'AVE', 'SR-B','SIXERS', 'RUNS-C', 'WKTS', 'AVE-BL', 'ECON', 'SR-BL']"
      ]
    },
    {
      "cell_type": "markdown",
      "metadata": {
        "id": "LEPl-O8iRWKy"
      },
      "source": [
        "## **Some of these features are categorical, so encoding them using one-hot encoding. A categorical feature with k values is encoded using (k-1) binary/dummy features.**"
      ]
    },
    {
      "cell_type": "code",
      "execution_count": null,
      "metadata": {
        "colab": {
          "base_uri": "https://localhost:8080/"
        },
        "id": "bKD3v7EnRamH",
        "outputId": "44a02c52-90f9-4dac-ce61-938b8ffcf642"
      },
      "outputs": [
        {
          "name": "stdout",
          "output_type": "stream",
          "text": [
            "Index(['T-RUNS', 'T-WKTS', 'ODI-RUNS-S', 'ODI-SR-B', 'ODI-WKTS', 'ODI-SR-BL',\n",
            "       'RUNS-S', 'HS', 'AVE', 'SR-B', 'SIXERS', 'RUNS-C', 'WKTS', 'AVE-BL',\n",
            "       'ECON', 'SR-BL', 'AGE_2', 'AGE_3', 'COUNTRY_BAN', 'COUNTRY_ENG',\n",
            "       'COUNTRY_IND', 'COUNTRY_NZ', 'COUNTRY_PAK', 'COUNTRY_SA', 'COUNTRY_SL',\n",
            "       'COUNTRY_WI', 'COUNTRY_ZIM', 'PLAYING ROLE_Batsman',\n",
            "       'PLAYING ROLE_Bowler', 'PLAYING ROLE_W. Keeper', 'CAPTAINCY EXP_1'],\n",
            "      dtype='object')\n"
          ]
        }
      ],
      "source": [
        "categorical_features = ['AGE', 'COUNTRY','PLAYING ROLE','CAPTAINCY EXP']\n",
        "ipl_encoded_df = pd.get_dummies(ipl_df[X_features], columns=categorical_features, drop_first = True)\n",
        "\n",
        "X_features = ipl_encoded_df.columns\n",
        "print(X_features)"
      ]
    },
    {
      "cell_type": "markdown",
      "metadata": {
        "id": "yzfGBA2YRftE"
      },
      "source": [
        "## **Adding the constant column to estimate Beta 0 using statsmodel library. Split the dataset into Train and Validation Sets**"
      ]
    },
    {
      "cell_type": "code",
      "execution_count": null,
      "metadata": {
        "colab": {
          "base_uri": "https://localhost:8080/"
        },
        "id": "c7x-SY2QRlAd",
        "outputId": "229b33ad-0c0e-4604-f76a-a472cf6e2225"
      },
      "outputs": [
        {
          "name": "stderr",
          "output_type": "stream",
          "text": [
            "C:\\Users\\meghu\\anaconda3\\lib\\site-packages\\statsmodels\\tsa\\tsatools.py:142: FutureWarning: In a future version of pandas all arguments of concat except for the argument 'objs' will be keyword-only\n",
            "  x = pd.concat(x[::order], 1)\n"
          ]
        }
      ],
      "source": [
        "import statsmodels.api as sm\n",
        "from sklearn.model_selection import train_test_split\n",
        "X = sm.add_constant(ipl_encoded_df)\n",
        "Y = ipl_df['SOLD PRICE']\n",
        "\n",
        "train_X, test_X, train_y, test_y = train_test_split(X,Y,train_size = 0.8, random_state = 42)\n",
        "#random_state is set to the seed 42 randomly. This is to reproduce the result across the runs. \n",
        "#Also it ensures same records go for training and validation"
      ]
    },
    {
      "cell_type": "markdown",
      "metadata": {
        "id": "Lx0ZftfZRth2"
      },
      "source": [
        "## **Building the model on training set**"
      ]
    },
    {
      "cell_type": "code",
      "execution_count": null,
      "metadata": {
        "colab": {
          "base_uri": "https://localhost:8080/",
          "height": 919
        },
        "id": "5SQ4UIGQRvYJ",
        "outputId": "cb53ce41-67ad-4872-d321-23af69296467"
      },
      "outputs": [
        {
          "data": {
            "text/html": [
              "<table class=\"simpletable\">\n",
              "<tr>\n",
              "        <td>Model:</td>               <td>OLS</td>         <td>Adj. R-squared:</td>      <td>0.362</td>  \n",
              "</tr>\n",
              "<tr>\n",
              "  <td>Dependent Variable:</td>    <td>SOLD PRICE</td>           <td>AIC:</td>          <td>2965.2841</td>\n",
              "</tr>\n",
              "<tr>\n",
              "         <td>Date:</td>        <td>2021-10-21 16:35</td>        <td>BIC:</td>          <td>3049.9046</td>\n",
              "</tr>\n",
              "<tr>\n",
              "   <td>No. Observations:</td>         <td>104</td>         <td>Log-Likelihood:</td>     <td>-1450.6</td> \n",
              "</tr>\n",
              "<tr>\n",
              "       <td>Df Model:</td>             <td>31</td>           <td>F-statistic:</td>        <td>2.883</td>  \n",
              "</tr>\n",
              "<tr>\n",
              "     <td>Df Residuals:</td>           <td>72</td>        <td>Prob (F-statistic):</td>  <td>0.000114</td> \n",
              "</tr>\n",
              "<tr>\n",
              "      <td>R-squared:</td>            <td>0.554</td>            <td>Scale:</td>        <td>1.1034e+11</td>\n",
              "</tr>\n",
              "</table>\n",
              "<table class=\"simpletable\">\n",
              "<tr>\n",
              "             <td></td>                <th>Coef.</th>     <th>Std.Err.</th>      <th>t</th>     <th>P>|t|</th>    <th>[0.025</th>       <th>0.975]</th>   \n",
              "</tr>\n",
              "<tr>\n",
              "  <th>const</th>                   <td>375827.1991</td> <td>228849.9306</td> <td>1.6422</td>  <td>0.1049</td>  <td>-80376.7996</td>  <td>832031.1978</td>\n",
              "</tr>\n",
              "<tr>\n",
              "  <th>T-RUNS</th>                   <td>-53.7890</td>     <td>32.7172</td>   <td>-1.6441</td> <td>0.1045</td>   <td>-119.0096</td>     <td>11.4316</td>  \n",
              "</tr>\n",
              "<tr>\n",
              "  <th>T-WKTS</th>                   <td>-132.5967</td>   <td>609.7525</td>   <td>-0.2175</td> <td>0.8285</td>  <td>-1348.1162</td>    <td>1082.9228</td> \n",
              "</tr>\n",
              "<tr>\n",
              "  <th>ODI-RUNS-S</th>                <td>57.9600</td>     <td>31.5071</td>   <td>1.8396</td>  <td>0.0700</td>    <td>-4.8482</td>     <td>120.7681</td>  \n",
              "</tr>\n",
              "<tr>\n",
              "  <th>ODI-SR-B</th>                 <td>-524.1450</td>   <td>1576.6368</td>  <td>-0.3324</td> <td>0.7405</td>  <td>-3667.1130</td>    <td>2618.8231</td> \n",
              "</tr>\n",
              "<tr>\n",
              "  <th>ODI-WKTS</th>                 <td>815.3944</td>    <td>832.3883</td>   <td>0.9796</td>  <td>0.3306</td>   <td>-843.9413</td>    <td>2474.7301</td> \n",
              "</tr>\n",
              "<tr>\n",
              "  <th>ODI-SR-BL</th>                <td>-773.3092</td>   <td>1536.3334</td>  <td>-0.5033</td> <td>0.6163</td>  <td>-3835.9338</td>    <td>2289.3154</td> \n",
              "</tr>\n",
              "<tr>\n",
              "  <th>RUNS-S</th>                   <td>114.7205</td>    <td>173.3088</td>   <td>0.6619</td>  <td>0.5101</td>   <td>-230.7643</td>    <td>460.2054</td>  \n",
              "</tr>\n",
              "<tr>\n",
              "  <th>HS</th>                      <td>-5516.3354</td>   <td>2586.3277</td>  <td>-2.1329</td> <td>0.0363</td>  <td>-10672.0855</td>   <td>-360.5853</td> \n",
              "</tr>\n",
              "<tr>\n",
              "  <th>AVE</th>                     <td>21560.2760</td>   <td>7774.2419</td>  <td>2.7733</td>  <td>0.0071</td>   <td>6062.6080</td>   <td>37057.9439</td> \n",
              "</tr>\n",
              "<tr>\n",
              "  <th>SR-B</th>                    <td>-1324.7218</td>   <td>1373.1303</td>  <td>-0.9647</td> <td>0.3379</td>  <td>-4062.0071</td>    <td>1412.5635</td> \n",
              "</tr>\n",
              "<tr>\n",
              "  <th>SIXERS</th>                   <td>4264.1001</td>   <td>4089.6000</td>  <td>1.0427</td>  <td>0.3006</td>  <td>-3888.3685</td>   <td>12416.5687</td> \n",
              "</tr>\n",
              "<tr>\n",
              "  <th>RUNS-C</th>                    <td>69.8250</td>    <td>297.6697</td>   <td>0.2346</td>  <td>0.8152</td>   <td>-523.5687</td>    <td>663.2187</td>  \n",
              "</tr>\n",
              "<tr>\n",
              "  <th>WKTS</th>                     <td>3075.2422</td>   <td>7262.4452</td>  <td>0.4234</td>  <td>0.6732</td>  <td>-11402.1778</td>  <td>17552.6622</td> \n",
              "</tr>\n",
              "<tr>\n",
              "  <th>AVE-BL</th>                   <td>5182.9335</td>  <td>10230.1581</td>  <td>0.5066</td>  <td>0.6140</td>  <td>-15210.5140</td>  <td>25576.3810</td> \n",
              "</tr>\n",
              "<tr>\n",
              "  <th>ECON</th>                    <td>-6820.7781</td>  <td>13109.3693</td>  <td>-0.5203</td> <td>0.6045</td>  <td>-32953.8282</td>  <td>19312.2721</td> \n",
              "</tr>\n",
              "<tr>\n",
              "  <th>SR-BL</th>                   <td>-7658.8094</td>  <td>14041.8735</td>  <td>-0.5454</td> <td>0.5871</td>  <td>-35650.7726</td>  <td>20333.1539</td> \n",
              "</tr>\n",
              "<tr>\n",
              "  <th>AGE_2</th>                  <td>-230767.6463</td> <td>114117.2005</td> <td>-2.0222</td> <td>0.0469</td> <td>-458256.1279</td>  <td>-3279.1648</td> \n",
              "</tr>\n",
              "<tr>\n",
              "  <th>AGE_3</th>                  <td>-216827.0808</td> <td>152246.6232</td> <td>-1.4242</td> <td>0.1587</td> <td>-520325.1772</td>  <td>86671.0155</td> \n",
              "</tr>\n",
              "<tr>\n",
              "  <th>COUNTRY_BAN</th>            <td>-122103.5196</td> <td>438719.2796</td> <td>-0.2783</td> <td>0.7816</td> <td>-996674.4194</td>  <td>752467.3801</td>\n",
              "</tr>\n",
              "<tr>\n",
              "  <th>COUNTRY_ENG</th>             <td>672410.7654</td> <td>238386.2220</td> <td>2.8207</td>  <td>0.0062</td>  <td>197196.5172</td> <td>1147625.0135</td>\n",
              "</tr>\n",
              "<tr>\n",
              "  <th>COUNTRY_IND</th>             <td>155306.4011</td> <td>126316.3449</td> <td>1.2295</td>  <td>0.2229</td>  <td>-96500.6302</td>  <td>407113.4325</td>\n",
              "</tr>\n",
              "<tr>\n",
              "  <th>COUNTRY_NZ</th>              <td>194218.9120</td> <td>173491.9293</td> <td>1.1195</td>  <td>0.2667</td> <td>-151630.9280</td>  <td>540068.7521</td>\n",
              "</tr>\n",
              "<tr>\n",
              "  <th>COUNTRY_PAK</th>             <td>75921.7670</td>  <td>193463.5545</td> <td>0.3924</td>  <td>0.6959</td> <td>-309740.7804</td>  <td>461584.3143</td>\n",
              "</tr>\n",
              "<tr>\n",
              "  <th>COUNTRY_SA</th>              <td>64283.3894</td>  <td>144587.6773</td> <td>0.4446</td>  <td>0.6579</td> <td>-223946.8775</td>  <td>352513.6563</td>\n",
              "</tr>\n",
              "<tr>\n",
              "  <th>COUNTRY_SL</th>              <td>17360.1530</td>  <td>176333.7497</td> <td>0.0985</td>  <td>0.9218</td> <td>-334154.7526</td>  <td>368875.0586</td>\n",
              "</tr>\n",
              "<tr>\n",
              "  <th>COUNTRY_WI</th>              <td>10607.7792</td>  <td>230686.7892</td> <td>0.0460</td>  <td>0.9635</td> <td>-449257.9303</td>  <td>470473.4887</td>\n",
              "</tr>\n",
              "<tr>\n",
              "  <th>COUNTRY_ZIM</th>            <td>-145494.4793</td> <td>401505.2815</td> <td>-0.3624</td> <td>0.7181</td> <td>-945880.6296</td>  <td>654891.6710</td>\n",
              "</tr>\n",
              "<tr>\n",
              "  <th>PLAYING ROLE_Batsman</th>    <td>75724.7643</td>  <td>150250.0240</td> <td>0.5040</td>  <td>0.6158</td> <td>-223793.1844</td>  <td>375242.7130</td>\n",
              "</tr>\n",
              "<tr>\n",
              "  <th>PLAYING ROLE_Bowler</th>     <td>15395.8752</td>  <td>126308.1272</td> <td>0.1219</td>  <td>0.9033</td> <td>-236394.7744</td>  <td>267186.5249</td>\n",
              "</tr>\n",
              "<tr>\n",
              "  <th>PLAYING ROLE_W. Keeper</th>  <td>-71358.6280</td> <td>213585.7444</td> <td>-0.3341</td> <td>0.7393</td> <td>-497134.0278</td>  <td>354416.7718</td>\n",
              "</tr>\n",
              "<tr>\n",
              "  <th>CAPTAINCY EXP_1</th>         <td>164113.3972</td> <td>123430.6353</td> <td>1.3296</td>  <td>0.1878</td>  <td>-81941.0772</td>  <td>410167.8716</td>\n",
              "</tr>\n",
              "</table>\n",
              "<table class=\"simpletable\">\n",
              "<tr>\n",
              "     <td>Omnibus:</td>    <td>0.891</td>  <td>Durbin-Watson:</td>   <td>2.244</td>\n",
              "</tr>\n",
              "<tr>\n",
              "  <td>Prob(Omnibus):</td> <td>0.640</td> <td>Jarque-Bera (JB):</td> <td>0.638</td>\n",
              "</tr>\n",
              "<tr>\n",
              "       <td>Skew:</td>     <td>0.190</td>     <td>Prob(JB):</td>     <td>0.727</td>\n",
              "</tr>\n",
              "<tr>\n",
              "     <td>Kurtosis:</td>   <td>3.059</td>  <td>Condition No.:</td>   <td>84116</td>\n",
              "</tr>\n",
              "</table>"
            ],
            "text/plain": [
              "<class 'statsmodels.iolib.summary2.Summary'>\n",
              "\"\"\"\n",
              "                            Results: Ordinary least squares\n",
              "========================================================================================\n",
              "Model:                     OLS                     Adj. R-squared:            0.362     \n",
              "Dependent Variable:        SOLD PRICE              AIC:                       2965.2841 \n",
              "Date:                      2021-10-21 16:35        BIC:                       3049.9046 \n",
              "No. Observations:          104                     Log-Likelihood:            -1450.6   \n",
              "Df Model:                  31                      F-statistic:               2.883     \n",
              "Df Residuals:              72                      Prob (F-statistic):        0.000114  \n",
              "R-squared:                 0.554                   Scale:                     1.1034e+11\n",
              "----------------------------------------------------------------------------------------\n",
              "                          Coef.       Std.Err.     t    P>|t|     [0.025       0.975]   \n",
              "----------------------------------------------------------------------------------------\n",
              "const                   375827.1991 228849.9306  1.6422 0.1049  -80376.7996  832031.1978\n",
              "T-RUNS                     -53.7890     32.7172 -1.6441 0.1045    -119.0096      11.4316\n",
              "T-WKTS                    -132.5967    609.7525 -0.2175 0.8285   -1348.1162    1082.9228\n",
              "ODI-RUNS-S                  57.9600     31.5071  1.8396 0.0700      -4.8482     120.7681\n",
              "ODI-SR-B                  -524.1450   1576.6368 -0.3324 0.7405   -3667.1130    2618.8231\n",
              "ODI-WKTS                   815.3944    832.3883  0.9796 0.3306    -843.9413    2474.7301\n",
              "ODI-SR-BL                 -773.3092   1536.3334 -0.5033 0.6163   -3835.9338    2289.3154\n",
              "RUNS-S                     114.7205    173.3088  0.6619 0.5101    -230.7643     460.2054\n",
              "HS                       -5516.3354   2586.3277 -2.1329 0.0363  -10672.0855    -360.5853\n",
              "AVE                      21560.2760   7774.2419  2.7733 0.0071    6062.6080   37057.9439\n",
              "SR-B                     -1324.7218   1373.1303 -0.9647 0.3379   -4062.0071    1412.5635\n",
              "SIXERS                    4264.1001   4089.6000  1.0427 0.3006   -3888.3685   12416.5687\n",
              "RUNS-C                      69.8250    297.6697  0.2346 0.8152    -523.5687     663.2187\n",
              "WKTS                      3075.2422   7262.4452  0.4234 0.6732  -11402.1778   17552.6622\n",
              "AVE-BL                    5182.9335  10230.1581  0.5066 0.6140  -15210.5140   25576.3810\n",
              "ECON                     -6820.7781  13109.3693 -0.5203 0.6045  -32953.8282   19312.2721\n",
              "SR-BL                    -7658.8094  14041.8735 -0.5454 0.5871  -35650.7726   20333.1539\n",
              "AGE_2                  -230767.6463 114117.2005 -2.0222 0.0469 -458256.1279   -3279.1648\n",
              "AGE_3                  -216827.0808 152246.6232 -1.4242 0.1587 -520325.1772   86671.0155\n",
              "COUNTRY_BAN            -122103.5196 438719.2796 -0.2783 0.7816 -996674.4194  752467.3801\n",
              "COUNTRY_ENG             672410.7654 238386.2220  2.8207 0.0062  197196.5172 1147625.0135\n",
              "COUNTRY_IND             155306.4011 126316.3449  1.2295 0.2229  -96500.6302  407113.4325\n",
              "COUNTRY_NZ              194218.9120 173491.9293  1.1195 0.2667 -151630.9280  540068.7521\n",
              "COUNTRY_PAK              75921.7670 193463.5545  0.3924 0.6959 -309740.7804  461584.3143\n",
              "COUNTRY_SA               64283.3894 144587.6773  0.4446 0.6579 -223946.8775  352513.6563\n",
              "COUNTRY_SL               17360.1530 176333.7497  0.0985 0.9218 -334154.7526  368875.0586\n",
              "COUNTRY_WI               10607.7792 230686.7892  0.0460 0.9635 -449257.9303  470473.4887\n",
              "COUNTRY_ZIM            -145494.4793 401505.2815 -0.3624 0.7181 -945880.6296  654891.6710\n",
              "PLAYING ROLE_Batsman     75724.7643 150250.0240  0.5040 0.6158 -223793.1844  375242.7130\n",
              "PLAYING ROLE_Bowler      15395.8752 126308.1272  0.1219 0.9033 -236394.7744  267186.5249\n",
              "PLAYING ROLE_W. Keeper  -71358.6280 213585.7444 -0.3341 0.7393 -497134.0278  354416.7718\n",
              "CAPTAINCY EXP_1         164113.3972 123430.6353  1.3296 0.1878  -81941.0772  410167.8716\n",
              "----------------------------------------------------------------------------------------\n",
              "Omnibus:                       0.891               Durbin-Watson:                  2.244\n",
              "Prob(Omnibus):                 0.640               Jarque-Bera (JB):               0.638\n",
              "Skew:                          0.190               Prob(JB):                       0.727\n",
              "Kurtosis:                      3.059               Condition No.:                  84116\n",
              "========================================================================================\n",
              "* The condition number is large (8e+04). This might indicate             strong\n",
              "multicollinearity or other numerical problems.\n",
              "\"\"\""
            ]
          },
          "execution_count": 15,
          "metadata": {},
          "output_type": "execute_result"
        }
      ],
      "source": [
        "ipl_mlr_model1 = sm.OLS(train_y,train_X).fit()\n",
        "ipl_mlr_model1.summary2()"
      ]
    },
    {
      "cell_type": "markdown",
      "metadata": {
        "id": "2OAqA0gAR6HN"
      },
      "source": [
        "## **Validating this model on the test data and finding the regression parameters, r2_score and RMSE of this model1**"
      ]
    },
    {
      "cell_type": "code",
      "execution_count": null,
      "metadata": {
        "colab": {
          "base_uri": "https://localhost:8080/"
        },
        "id": "3-EGvjCJR7rZ",
        "outputId": "4c1bb204-1b97-4239-c5a5-3dec02387b21"
      },
      "outputs": [
        {
          "name": "stdout",
          "output_type": "stream",
          "text": [
            "The r2_score of the model is 0.3191598450075729\n",
            "The RMSE of the trained model is 304522.9980115466\n",
            "The model parameters are\n",
            "const                     375827.199059\n",
            "T-RUNS                       -53.789030\n",
            "T-WKTS                      -132.596723\n",
            "ODI-RUNS-S                    57.959956\n",
            "ODI-SR-B                    -524.144970\n",
            "ODI-WKTS                     815.394424\n",
            "ODI-SR-BL                   -773.309199\n",
            "RUNS-S                       114.720547\n",
            "HS                         -5516.335398\n",
            "AVE                        21560.275955\n",
            "SR-B                       -1324.721784\n",
            "SIXERS                      4264.100109\n",
            "RUNS-C                        69.825020\n",
            "WKTS                        3075.242189\n",
            "AVE-BL                      5182.933487\n",
            "ECON                       -6820.778058\n",
            "SR-BL                      -7658.809364\n",
            "AGE_2                    -230767.646329\n",
            "AGE_3                    -216827.080829\n",
            "COUNTRY_BAN              -122103.519643\n",
            "COUNTRY_ENG               672410.765359\n",
            "COUNTRY_IND               155306.401120\n",
            "COUNTRY_NZ                194218.912037\n",
            "COUNTRY_PAK                75921.766953\n",
            "COUNTRY_SA                 64283.389419\n",
            "COUNTRY_SL                 17360.153006\n",
            "COUNTRY_WI                 10607.779196\n",
            "COUNTRY_ZIM              -145494.479329\n",
            "PLAYING ROLE_Batsman       75724.764262\n",
            "PLAYING ROLE_Bowler        15395.875247\n",
            "PLAYING ROLE_W. Keeper    -71358.627992\n",
            "CAPTAINCY EXP_1           164113.397202\n",
            "dtype: float64\n"
          ]
        }
      ],
      "source": [
        "from sklearn.metrics import r2_score, mean_squared_error\n",
        "import numpy as np\n",
        "\n",
        "pred_y = ipl_mlr_model1.predict(test_X)\n",
        "print(\"The r2_score of the model is\", np.abs(r2_score(test_y, pred_y)))\n",
        "print(\"The RMSE of the trained model is\", np.sqrt(mean_squared_error(test_y, pred_y)))\n",
        "print(\"The model parameters are\")\n",
        "print(ipl_mlr_model1.params)"
      ]
    },
    {
      "cell_type": "markdown",
      "metadata": {
        "id": "XNuV7NMmSXdv"
      },
      "source": [
        "## **Finding the variables which are statistically significant in influencing the response variable. If the p-value of a variable is less than the significance value(alpha = 0.05), it is an influencing variables**"
      ]
    },
    {
      "cell_type": "code",
      "execution_count": null,
      "metadata": {
        "colab": {
          "base_uri": "https://localhost:8080/"
        },
        "id": "jdGT3W8lSmiy",
        "outputId": "3dde84b1-bbe6-476a-e077-b8d7290f48d9"
      },
      "outputs": [
        {
          "name": "stdout",
          "output_type": "stream",
          "text": [
            "['const', 'T-RUNS', 'T-WKTS', 'ODI-RUNS-S', 'ODI-SR-B', 'ODI-WKTS', 'ODI-SR-BL', 'RUNS-S', 'HS', 'AVE', 'SR-B', 'SIXERS', 'RUNS-C', 'WKTS', 'AVE-BL', 'ECON', 'SR-BL', 'AGE_2', 'AGE_3', 'COUNTRY_BAN', 'COUNTRY_ENG', 'COUNTRY_IND', 'COUNTRY_NZ', 'COUNTRY_PAK', 'COUNTRY_SA', 'COUNTRY_SL', 'COUNTRY_WI', 'COUNTRY_ZIM', 'PLAYING ROLE_Batsman', 'PLAYING ROLE_Bowler', 'PLAYING ROLE_W. Keeper', 'CAPTAINCY EXP_1']\n",
            "[0.10490056300775813, 0.10452389864625473, 0.8284650387483237, 0.06995144805557298, 0.7405192506862497, 0.330571504927199, 0.6162566266912521, 0.5101209414895249, 0.036344110068239587, 0.007061202278855836, 0.3379013637272189, 0.3005898789801117, 0.8152066325801879, 0.6732332708123925, 0.613960524198236, 0.6044521679304626, 0.5871460364373555, 0.04687188990190799, 0.1587131992808342, 0.7815659102069415, 0.006187800746682858, 0.22288580255403864, 0.2666606170703112, 0.6958965700366699, 0.6579439107634066, 0.9218481195870434, 0.9634507275299442, 0.7181351775439581, 0.615805956001891, 0.9033245876265928, 0.7392765951880788, 0.18784727942388402]\n",
            "List of all variables and their pvalues is [('const', 0.10490056300775813), ('T-RUNS', 0.10452389864625473), ('T-WKTS', 0.8284650387483237), ('ODI-RUNS-S', 0.06995144805557298), ('ODI-SR-B', 0.7405192506862497), ('ODI-WKTS', 0.330571504927199), ('ODI-SR-BL', 0.6162566266912521), ('RUNS-S', 0.5101209414895249), ('HS', 0.036344110068239587), ('AVE', 0.007061202278855836), ('SR-B', 0.3379013637272189), ('SIXERS', 0.3005898789801117), ('RUNS-C', 0.8152066325801879), ('WKTS', 0.6732332708123925), ('AVE-BL', 0.613960524198236), ('ECON', 0.6044521679304626), ('SR-BL', 0.5871460364373555), ('AGE_2', 0.04687188990190799), ('AGE_3', 0.1587131992808342), ('COUNTRY_BAN', 0.7815659102069415), ('COUNTRY_ENG', 0.006187800746682858), ('COUNTRY_IND', 0.22288580255403864), ('COUNTRY_NZ', 0.2666606170703112), ('COUNTRY_PAK', 0.6958965700366699), ('COUNTRY_SA', 0.6579439107634066), ('COUNTRY_SL', 0.9218481195870434), ('COUNTRY_WI', 0.9634507275299442), ('COUNTRY_ZIM', 0.7181351775439581), ('PLAYING ROLE_Batsman', 0.615805956001891), ('PLAYING ROLE_Bowler', 0.9033245876265928), ('PLAYING ROLE_W. Keeper', 0.7392765951880788), ('CAPTAINCY EXP_1', 0.18784727942388402)]\n",
            "List of influencing variables is ['HS', 'AVE', 'AGE_2', 'COUNTRY_ENG']\n"
          ]
        }
      ],
      "source": [
        "s = ipl_mlr_model1.pvalues\n",
        "# print(s.index)\n",
        "impt_vars = list(s.index)  # s.index returns the variable names of the pandas series s. \n",
        "print(impt_vars)\n",
        "pvals = list(s)\n",
        "print(pvals)\n",
        "new = [i for i in zip(impt_vars,pvals)] \n",
        "print(\"List of all variables and their pvalues is\",new)\n",
        "important_vars = [ i[0]  for i in new if i[1] < 0.05]\n",
        "\n",
        "print(\"List of influencing variables is\",important_vars)"
      ]
    },
    {
      "cell_type": "markdown",
      "metadata": {
        "id": "_KAiqN0ZSwYC"
      },
      "source": [
        "**9. Train a new model with these significant variables**"
      ]
    },
    {
      "cell_type": "code",
      "execution_count": null,
      "metadata": {
        "colab": {
          "base_uri": "https://localhost:8080/",
          "height": 348
        },
        "id": "IzJA2U5RSx5w",
        "outputId": "cbd5596b-9f14-4d53-b873-59b5cdc6f008"
      },
      "outputs": [
        {
          "data": {
            "text/html": [
              "<table class=\"simpletable\">\n",
              "<tr>\n",
              "          <td>Model:</td>                 <td>OLS</td>       <td>Adj. R-squared (uncentered):</td>    <td>0.655</td>  \n",
              "</tr>\n",
              "<tr>\n",
              "    <td>Dependent Variable:</td>      <td>SOLD PRICE</td>                <td>AIC:</td>              <td>2977.6511</td>\n",
              "</tr>\n",
              "<tr>\n",
              "           <td>Date:</td>          <td>2021-10-21 16:36</td>             <td>BIC:</td>              <td>2988.2287</td>\n",
              "</tr>\n",
              "<tr>\n",
              "     <td>No. Observations:</td>           <td>104</td>              <td>Log-Likelihood:</td>         <td>-1484.8</td> \n",
              "</tr>\n",
              "<tr>\n",
              "         <td>Df Model:</td>                <td>4</td>                <td>F-statistic:</td>            <td>50.37</td>  \n",
              "</tr>\n",
              "<tr>\n",
              "       <td>Df Residuals:</td>             <td>100</td>            <td>Prob (F-statistic):</td>      <td>3.75e-23</td> \n",
              "</tr>\n",
              "<tr>\n",
              "  <td>R-squared (uncentered):</td>       <td>0.668</td>                 <td>Scale:</td>            <td>1.5330e+11</td>\n",
              "</tr>\n",
              "</table>\n",
              "<table class=\"simpletable\">\n",
              "<tr>\n",
              "       <td></td>          <th>Coef.</th>     <th>Std.Err.</th>      <th>t</th>     <th>P>|t|</th>    <th>[0.025</th>      <th>0.975]</th>   \n",
              "</tr>\n",
              "<tr>\n",
              "  <th>HS</th>          <td>-2161.2002</td>   <td>2138.0051</td>  <td>-1.0108</td> <td>0.3145</td>  <td>-6402.9413</td>   <td>2080.5410</td> \n",
              "</tr>\n",
              "<tr>\n",
              "  <th>AVE</th>         <td>29837.6936</td>   <td>6512.8158</td>  <td>4.5814</td>  <td>0.0000</td>  <td>16916.4525</td>  <td>42758.9348</td> \n",
              "</tr>\n",
              "<tr>\n",
              "  <th>AGE_2</th>       <td>19506.0521</td>  <td>67038.5770</td>  <td>0.2910</td>  <td>0.7717</td> <td>-113496.5754</td> <td>152508.6795</td>\n",
              "</tr>\n",
              "<tr>\n",
              "  <th>COUNTRY_ENG</th> <td>347611.0068</td> <td>236406.2403</td> <td>1.4704</td>  <td>0.1446</td> <td>-121412.2407</td> <td>816634.2542</td>\n",
              "</tr>\n",
              "</table>\n",
              "<table class=\"simpletable\">\n",
              "<tr>\n",
              "     <td>Omnibus:</td>    <td>2.563</td>  <td>Durbin-Watson:</td>   <td>2.083</td>\n",
              "</tr>\n",
              "<tr>\n",
              "  <td>Prob(Omnibus):</td> <td>0.278</td> <td>Jarque-Bera (JB):</td> <td>2.062</td>\n",
              "</tr>\n",
              "<tr>\n",
              "       <td>Skew:</td>     <td>0.332</td>     <td>Prob(JB):</td>     <td>0.357</td>\n",
              "</tr>\n",
              "<tr>\n",
              "     <td>Kurtosis:</td>   <td>3.186</td>  <td>Condition No.:</td>    <td>389</td> \n",
              "</tr>\n",
              "</table>"
            ],
            "text/plain": [
              "<class 'statsmodels.iolib.summary2.Summary'>\n",
              "\"\"\"\n",
              "                        Results: Ordinary least squares\n",
              "================================================================================\n",
              "Model:                  OLS              Adj. R-squared (uncentered): 0.655     \n",
              "Dependent Variable:     SOLD PRICE       AIC:                         2977.6511 \n",
              "Date:                   2021-10-21 16:36 BIC:                         2988.2287 \n",
              "No. Observations:       104              Log-Likelihood:              -1484.8   \n",
              "Df Model:               4                F-statistic:                 50.37     \n",
              "Df Residuals:           100              Prob (F-statistic):          3.75e-23  \n",
              "R-squared (uncentered): 0.668            Scale:                       1.5330e+11\n",
              "---------------------------------------------------------------------------------\n",
              "                Coef.       Std.Err.      t     P>|t|      [0.025        0.975]  \n",
              "---------------------------------------------------------------------------------\n",
              "HS            -2161.2002    2138.0051  -1.0108  0.3145    -6402.9413    2080.5410\n",
              "AVE           29837.6936    6512.8158   4.5814  0.0000    16916.4525   42758.9348\n",
              "AGE_2         19506.0521   67038.5770   0.2910  0.7717  -113496.5754  152508.6795\n",
              "COUNTRY_ENG  347611.0068  236406.2403   1.4704  0.1446  -121412.2407  816634.2542\n",
              "--------------------------------------------------------------------------------\n",
              "Omnibus:                   2.563             Durbin-Watson:                2.083\n",
              "Prob(Omnibus):             0.278             Jarque-Bera (JB):             2.062\n",
              "Skew:                      0.332             Prob(JB):                     0.357\n",
              "Kurtosis:                  3.186             Condition No.:                389  \n",
              "================================================================================\n",
              "\n",
              "\"\"\""
            ]
          },
          "execution_count": 21,
          "metadata": {},
          "output_type": "execute_result"
        }
      ],
      "source": [
        "train_X = train_X[important_vars]\n",
        "ipl_mlr_model2 = sm.OLS(train_y, train_X).fit()\n",
        "ipl_mlr_model2.summary2()"
      ]
    },
    {
      "cell_type": "markdown",
      "metadata": {
        "id": "qu_cuo0xS65S"
      },
      "source": [
        "**Following are the inferences from the model generated:**\n",
        "1. All the variables are statistically significant in predicting the outcome.\n",
        "2. The R-Squared has significantly increased from the previous model. From 0.554 to 0.668.\n",
        "3. The model can explain 66.8% of the variation in SOLD Price, since R-Squared is 0.668."
      ]
    },
    {
      "cell_type": "markdown",
      "metadata": {
        "id": "Bn4HdKGITAsM"
      },
      "source": [
        "**10. Make Preditions on validation set of this model2**"
      ]
    },
    {
      "cell_type": "code",
      "execution_count": null,
      "metadata": {
        "id": "kyCNuHOuS_xO"
      },
      "outputs": [],
      "source": [
        "new_test_X = test_X[train_X.columns]\n",
        "pred_y = ipl_mlr_model2.predict(new_test_X)"
      ]
    },
    {
      "cell_type": "markdown",
      "metadata": {
        "id": "hh9Ul9WATL8_"
      },
      "source": [
        "**11. Find r2_score and RMSE of this prediction by model2**"
      ]
    },
    {
      "cell_type": "code",
      "execution_count": null,
      "metadata": {
        "colab": {
          "base_uri": "https://localhost:8080/"
        },
        "id": "TB97frlNTQe3",
        "outputId": "fc11b204-03b2-4ff4-f4f9-9383e743b3c3"
      },
      "outputs": [
        {
          "name": "stdout",
          "output_type": "stream",
          "text": [
            "The r2_score of the model is 0.21816020642155953\n",
            "The RMSE of the trained model is 407333.1164547601\n",
            "The model parameters are\n",
            "HS              -2161.200195\n",
            "AVE             29837.693625\n",
            "AGE_2           19506.052089\n",
            "COUNTRY_ENG    347611.006756\n",
            "dtype: float64\n"
          ]
        }
      ],
      "source": [
        "from sklearn.metrics import r2_score, mean_squared_error\n",
        "import numpy as np\n",
        "print(\"The r2_score of the model is\", np.abs(r2_score(test_y, pred_y)))\n",
        "print(\"The RMSE of the trained model is\", np.sqrt(mean_squared_error(test_y, pred_y)))\n",
        "print(\"The model parameters are\")\n",
        "print(ipl_mlr_model2.params)"
      ]
    },
    {
      "cell_type": "markdown",
      "metadata": {
        "id": "I5_wxK1FKuUb"
      },
      "source": [
        "## References:-\n",
        "\n",
        "https://en.wikipedia.org/wiki/Python_(programming_language)\n",
        "\n",
        "https://towardsdatascience.com/train-validation-and-test-sets-72cb40cba9e7\n",
        "\n",
        "https://en.wikipedia.org/wiki/Root-mean-square_deviation"
      ]
    }
  ],
  "metadata": {
    "colab": {
      "name": "MAJOR PROJECT .ipynb",
      "provenance": [],
      "include_colab_link": true
    },
    "kernelspec": {
      "display_name": "Python 3",
      "language": "python",
      "name": "python3"
    },
    "language_info": {
      "codemirror_mode": {
        "name": "ipython",
        "version": 3
      },
      "file_extension": ".py",
      "mimetype": "text/x-python",
      "name": "python",
      "nbconvert_exporter": "python",
      "pygments_lexer": "ipython3",
      "version": "3.8.8"
    }
  },
  "nbformat": 4,
  "nbformat_minor": 0
}